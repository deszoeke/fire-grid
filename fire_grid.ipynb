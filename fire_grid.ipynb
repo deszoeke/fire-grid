{
 "cells": [
  {
   "cell_type": "code",
   "execution_count": 1,
   "id": "5c0773dc",
   "metadata": {},
   "outputs": [],
   "source": [
    "using Random\n",
    "using PyPlot"
   ]
  },
  {
   "cell_type": "code",
   "execution_count": 7,
   "id": "55db752f",
   "metadata": {},
   "outputs": [
    {
     "data": {
      "text/plain": [
       "0.0001"
      ]
     },
     "metadata": {},
     "output_type": "display_data"
    }
   ],
   "source": [
    "# parameters\n",
    "nd = 2 # dimensions\n",
    "nx = 1000\n",
    "\n",
    "ntyear = 100 # 100-day growing-burning season\n",
    "ntmature = ntyear * 10   # 10 years to maturity\n",
    "ntignite = ntyear * 100 # lightning ignites each grid every 100 years\n",
    "p_grow = 1/ntmature\n",
    "p_ignite = 1/ntignite"
   ]
  },
  {
   "cell_type": "code",
   "execution_count": null,
   "id": "5dda6d25",
   "metadata": {},
   "outputs": [
    {
     "data": {
      "text/plain": [
       "step!"
      ]
     },
     "metadata": {},
     "output_type": "display_data"
    }
   ],
   "source": [
    "# landscape functions\n",
    "\n",
    "function interior(A)\n",
    "    sz = size(A)\n",
    "    nd = length(sz)\n",
    "    CartesianIndices(ntuple(d -> 2:sz(d)-1, nd)) # interior indices, not used in periodic\n",
    "end\n",
    "\n",
    "\"grow mature trees in empty cells with probability p\"\n",
    "function grow!(tree, sincetree, p=p_grow)\n",
    "    # Loop through each CartesianIndex and grow trees in bare cells\n",
    "    for I in eachindex(tree)\n",
    "        # Access or update the array using the CartesianIndex\n",
    "        if !tree[I]\n",
    "            if rand() < p\n",
    "                tree[I] = true\n",
    "                sincetree[I] = 0 # zero step counter for tree\n",
    "            end\n",
    "        end\n",
    "    end\n",
    "end\n",
    "\n",
    "\"ignite cells that have trees with some probability\"\n",
    "function ignite!(fire, tree, sincefire, p=p_ignite)\n",
    "    for I in findall(tree) # .&&.! fire\n",
    "        # Access or update the array using the CartesianIndex\n",
    "        if rand() < p\n",
    "            fire[I] = true\n",
    "            tree[I] = false\n",
    "            sincefire[I] = 0 # zero step counter for fire\n",
    "        end\n",
    "    end\n",
    "end\n",
    "\n",
    "# burn functions\n",
    "\"CartesianIndex to shift s(=1) index in dimension dim\"\n",
    "offset(dim, nd=nd, s=1) = CartesianIndex(ntuple(j -> j==dim ? s : 0, nd))\n",
    "\n",
    "\"Periodic modifying shift index of dimension dim by s(=1)\"\n",
    "function shift(idx::CartesianIndex, offset::CartesianIndex, sz::NTuple{N, Int}) where N\n",
    "    new_coord = ntuple(d -> mod1(idx[d] + offset[d], sz[d]), N) # N is number of dimensions\n",
    "    CartesianIndex(new_coord)\n",
    "end\n",
    "\n",
    "\"propagate fires to neighboring trees on a periodic domain\"\n",
    "function burn!(fire, tree, sincefire)\n",
    "    sz = size(tree)\n",
    "    nd = length(sz)\n",
    "    for I in findall(fire) # all burning cells on the grid\n",
    "        for D in 1:nd # spread forward and backward in each dimension\n",
    "            for ofs in offset.(D, nd, [-1, 1])\n",
    "                target = shift(I, ofs, sz)\n",
    "                if tree[target] # burn cells if treed\n",
    "                    fire[target] = true\n",
    "                    \n",
    "                    sincefire[target] = 0 # zero step counter for fire\n",
    "                end\n",
    "            end\n",
    "        end\n",
    "        fire[I] = false # original fires burn out\n",
    "    end\n",
    "end\n",
    "\n",
    "\"daily step\"\n",
    "function step!(fire, tree, sincefire, sincetree)\n",
    "    grow!(tree, sincetree)\n",
    "\n",
    "    # fires burn across the domain in finite time\n",
    "    ignite!(fire, tree, sincefire)\n",
    "    burn!(fire, tree, sincefire)\n",
    "\n",
    "    # increment age of all trees and time since fire\n",
    "    sincetree[findall(tree)] .+= 1\n",
    "    sincefire .+= 1\n",
    "end\n"
   ]
  },
  {
   "cell_type": "code",
   "execution_count": null,
   "id": "a3158445",
   "metadata": {},
   "outputs": [
    {
     "data": {
      "text/plain": [
       "100000"
      ]
     },
     "metadata": {},
     "output_type": "display_data"
    }
   ],
   "source": [
    "# initialize\n",
    "Random.seed!(42)\n",
    "\n",
    "tree = falses(fill(nx, nd)...) # initialize array\n",
    "sz = size(tree)\n",
    "C = CartesianIndices(tree)\n",
    "fire = falses(sz)\n",
    "\n",
    "# diagnostics count days\n",
    "# continuously incrementing, reset by events\n",
    "sincetree = zeros(Int64, sz)\n",
    "sincefire = zeros(Int64, sz)\n",
    "# lastfireinterval = zeros(Int64, sz)\n",
    "# lasttreeinterval = zeros(Int64, sz)\n",
    "\n",
    "# single step\n",
    "step!(fire, tree, sincefire, sincetree)"
   ]
  },
  {
   "cell_type": "code",
   "execution_count": null,
   "id": "cae04144",
   "metadata": {},
   "outputs": [],
   "source": [
    "# big run\n",
    "nyear = 1000\n",
    "ndays = nyear * ntyear\n",
    "\n",
    "for i in 1:ndays\n",
    "    step!(fire, tree, sincefire, sincetree)\n",
    "end"
   ]
  },
  {
   "cell_type": "code",
   "execution_count": null,
   "id": "ce40197a",
   "metadata": {},
   "outputs": [],
   "source": [
    "cm = PyPlot.cm\n",
    "\n",
    "clf()\n",
    "subplot(2,2,1)\n",
    "imshow(tree+2*fire, vmax=2, cmap=PyPlot.cm.Greys)\n",
    "subplot(2,2,2)\n",
    "imshow(sincetree); colorbar()\n",
    "subplot(2,2,4)\n",
    "imshow(sincefire); colorbar()\n",
    "gcf()"
   ]
  }
 ],
 "metadata": {
  "kernelspec": {
   "display_name": "Julia 1.11.5",
   "language": "julia",
   "name": "julia-1.11"
  },
  "language_info": {
   "file_extension": ".jl",
   "mimetype": "application/julia",
   "name": "julia",
   "version": "1.11.5"
  }
 },
 "nbformat": 4,
 "nbformat_minor": 5
}
